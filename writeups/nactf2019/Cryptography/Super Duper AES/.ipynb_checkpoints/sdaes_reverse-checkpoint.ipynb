{
 "cells": [
  {
   "cell_type": "code",
   "execution_count": 9,
   "metadata": {
    "collapsed": false
   },
   "outputs": [
    {
     "name": "stdout",
     "output_type": "stream",
     "text": [
      "26c08cc0\n"
     ]
    }
   ],
   "source": [
    "import sys\n",
    "from binascii import hexlify\n",
    "\n",
    "def substitute(hexBlock):\n",
    "    substitutedHexBlock = \"\"\n",
    "    substitution =  [8, 4, 15, 9, 3, 14, 6, 2,\n",
    "                    13, 1, 7, 5, 12, 10, 11, 0]\n",
    "    for hexDigit in hexBlock:\n",
    "        newDigit = substitution[int(hexDigit, 16)]\n",
    "        substitutedHexBlock += hex(newDigit)[2:]\n",
    "    return substitutedHexBlock\n",
    "\n",
    "def pad(message):\n",
    "    numBytes = 4-(len(message)%4)\n",
    "    return message + numBytes * chr(numBytes)\n",
    "\n",
    "def hexpad(hexBlock):\n",
    "    numZeros = 8 - len(hexBlock)\n",
    "    return numZeros*\"0\" + hexBlock\n",
    "\n",
    "def permute(hexBlock):\n",
    "    permutation =   [6, 22, 30, 18, 29, 4, 23, 19,\n",
    "                    15, 1, 31, 11, 28, 14, 25, 2,\n",
    "                    27, 12, 21, 26, 10, 16, 0, 24,\n",
    "                     7, 5, 3, 20, 13, 9, 17, 8]\n",
    "    block = int(hexBlock, 16)\n",
    "    permutedBlock = 0\n",
    "    for i in range(32):\n",
    "        bit = (block & (1 << i)) >> i\n",
    "        permutedBlock |= bit << permutation[i]\n",
    "    return hexpad(hex(permutedBlock)[2:])\n",
    "\n",
    "def round(hexMessage):\n",
    "    numBlocks = len(hexMessage)//8\n",
    "    substitutedHexMessage = \"\"\n",
    "    for i in range(numBlocks):\n",
    "        substitutedHexMessage += substitute(hexMessage[8*i:8*i+8])\n",
    "    permutedHexMessage = \"\"\n",
    "    for i in range(numBlocks):\n",
    "        permutedHexMessage += permute(substitutedHexMessage[8*i:8*i+8])\n",
    "    return permutedHexMessage\n",
    "\n",
    "message = 'hi'\n",
    "hexMessage = str(hexlify(str.encode(pad(message))))\n",
    "if \"\\'\" in hexMessage:\n",
    "    hexMessage = hexMessage[2:-1]\n",
    "    \n",
    "for i in range(10000):\n",
    "    hexMessage = round(hexMessage)\n",
    "print (hexMessage)"
   ]
  },
  {
   "cell_type": "code",
   "execution_count": 11,
   "metadata": {
    "collapsed": false
   },
   "outputs": [
    {
     "name": "stdout",
     "output_type": "stream",
     "text": [
      "34343343\n"
     ]
    }
   ],
   "source": [
    "def reverse_permute(permutedHexBlock):\n",
    "    permutation =   [6, 22, 30, 18, 29, 4, 23, 19,\n",
    "                    15, 1, 31, 11, 28, 14, 25, 2,\n",
    "                    27, 12, 21, 26, 10, 16, 0, 24,\n",
    "                     7, 5, 3, 20, 13, 9, 17, 8]\n",
    "    permutedBlock = int(permutedHexBlock, 16)\n",
    "    unpermutedBlock = 0\n",
    "    for i in range(32):\n",
    "        bit = (permutedBlock & (1 << i)) >> i\n",
    "        unpermutedBlock |= bit << permutation.index(i)\n",
    "    return hexpad(hex(unpermutedBlock)[2:])\n",
    "def reverse_substitute(substitutedHexBlock):\n",
    "    substitution =  [8, 4, 15, 9, 3, 14, 6, 2,\n",
    "                    13, 1, 7, 5, 12, 10, 11, 0]\n",
    "    hexBlock = \"\"\n",
    "    for hexDigit in substitutedHexBlock:\n",
    "        newDigit = substitution.index(int(hexDigit, 16))\n",
    "        hexBlock += hex(newDigit)[2:]\n",
    "    return hexBlock\n",
    "\n",
    "def reverse_round(permutedHexMessage):\n",
    "    numBlocks = len(permutedHexMessage)//8\n",
    "    unpermutedHexMessage = \"\"\n",
    "    for i in range(numBlocks):\n",
    "        unpermutedHexMessage += reverse_permute(permutedHexMessage[i*8:i*8+8])\n",
    "    unsubstitutedHexMessage = \"\"\n",
    "    for i in range(numBlocks):\n",
    "        unsubstitutedHexMessage += reverse_substitute(unpermutedHexMessage[i*8:i*8+8])\n",
    "    return unsubstitutedHexMessage"
   ]
  },
  {
   "cell_type": "code",
   "execution_count": 13,
   "metadata": {
    "collapsed": false
   },
   "outputs": [
    {
     "name": "stdout",
     "output_type": "stream",
     "text": [
      "nactf{5ub5t1tut10n_p3rmutat10n_n33d5_a_k3y}\u0001\n"
     ]
    }
   ],
   "source": [
    "from binascii import unhexlify\n",
    "with open('cipher.txt','r') as cipherFile:\n",
    "    ciphertext = cipherFile.read()\n",
    "    for i in range(10000):\n",
    "        ciphertext = reverse_round(ciphertext)\n",
    "    plaintext = unhexlify(ciphertext).decode('utf-8')\n",
    "    print(plaintext)"
   ]
  },
  {
   "cell_type": "code",
   "execution_count": null,
   "metadata": {
    "collapsed": true
   },
   "outputs": [],
   "source": []
  }
 ],
 "metadata": {
  "kernelspec": {
   "display_name": "Python 3",
   "language": "python",
   "name": "python3"
  },
  "language_info": {
   "codemirror_mode": {
    "name": "ipython",
    "version": 3
   },
   "file_extension": ".py",
   "mimetype": "text/x-python",
   "name": "python",
   "nbconvert_exporter": "python",
   "pygments_lexer": "ipython3",
   "version": "3.6.0"
  }
 },
 "nbformat": 4,
 "nbformat_minor": 2
}
