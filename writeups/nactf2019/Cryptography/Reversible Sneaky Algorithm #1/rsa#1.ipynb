{
 "cells": [
  {
   "cell_type": "code",
   "execution_count": 2,
   "metadata": {
    "collapsed": false
   },
   "outputs": [
    {
     "name": "stdout",
     "output_type": "stream",
     "text": [
      "b'nactf{pkcs}'\n"
     ]
    }
   ],
   "source": [
    "import itertools\n",
    "import string\n",
    "comb = itertools.product(string.ascii_lowercase, repeat=4)\n",
    "with open('ReversibleSneakyAlgorithm.txt','r') as file:\n",
    "    n = int(file.readline().strip()[3:])\n",
    "    e = int(file.readline().strip()[3:])\n",
    "    c = int(file.readline().strip()[3:])\n",
    "    for co in comb:\n",
    "        cBytes = b''.join([bytes(i, 'utf-8') for i in co])\n",
    "        guessBytes = b'nactf{' + cBytes +b'}'\n",
    "        guess = int.from_bytes(guessBytes, byteorder='big')\n",
    "        encryptedGuess = pow(guess, e, n)\n",
    "        \n",
    "        if encryptedGuess == c:\n",
    "            print(guessBytes)\n",
    "            break\n",
    "    "
   ]
  },
  {
   "cell_type": "code",
   "execution_count": null,
   "metadata": {
    "collapsed": true
   },
   "outputs": [],
   "source": []
  }
 ],
 "metadata": {
  "kernelspec": {
   "display_name": "Python 3",
   "language": "python",
   "name": "python3"
  },
  "language_info": {
   "codemirror_mode": {
    "name": "ipython",
    "version": 3
   },
   "file_extension": ".py",
   "mimetype": "text/x-python",
   "name": "python",
   "nbconvert_exporter": "python",
   "pygments_lexer": "ipython3",
   "version": "3.6.0"
  }
 },
 "nbformat": 4,
 "nbformat_minor": 2
}
