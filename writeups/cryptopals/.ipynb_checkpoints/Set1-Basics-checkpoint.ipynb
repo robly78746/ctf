{
 "cells": [
  {
   "cell_type": "markdown",
   "metadata": {},
   "source": [
    "Convert hex to base64\n",
    "The string:\n",
    "\n",
    "49276d206b696c6c696e6720796f757220627261696e206c696b65206120706f69736f6e6f7573206d757368726f6f6d\n",
    "Should produce:\n",
    "\n",
    "SSdtIGtpbGxpbmcgeW91ciBicmFpbiBsaWtlIGEgcG9pc29ub3VzIG11c2hyb29t"
   ]
  },
  {
   "cell_type": "code",
   "execution_count": 4,
   "metadata": {
    "collapsed": false
   },
   "outputs": [
    {
     "name": "stdout",
     "output_type": "stream",
     "text": [
      "b\"I'm killing your brain like a poisonous mushroom\"\n",
      "b'SSdtIGtpbGxpbmcgeW91ciBicmFpbiBsaWtlIGEgcG9pc29ub3VzIG11c2hyb29t'\n"
     ]
    }
   ],
   "source": [
    "inString = '49276d206b696c6c696e6720796f757220627261696e206c696b65206120706f69736f6e6f7573206d757368726f6f6d'\n",
    "byteString = bytes.fromhex(inString)\n",
    "print(byteString)\n",
    "import base64\n",
    "output = base64.b64encode(byteString)\n",
    "print(output)"
   ]
  },
  {
   "cell_type": "markdown",
   "metadata": {},
   "source": [
    "Fixed XOR\n",
    "Write a function that takes two equal-length buffers and produces their XOR combination.\n",
    "\n",
    "If your function works properly, then when you feed it the string:\n",
    "\n",
    "1c0111001f010100061a024b53535009181c\n",
    "... after hex decoding, and when XOR'd against:\n",
    "\n",
    "686974207468652062756c6c277320657965\n",
    "... should produce:\n",
    "\n",
    "746865206b696420646f6e277420706c617"
   ]
  },
  {
   "cell_type": "code",
   "execution_count": 10,
   "metadata": {
    "collapsed": false
   },
   "outputs": [
    {
     "name": "stdout",
     "output_type": "stream",
     "text": [
      "b\"the kid don't play\"\n",
      "746865206b696420646f6e277420706c6179\n"
     ]
    }
   ],
   "source": [
    "s1 = '1c0111001f010100061a024b53535009181c'\n",
    "s2 = '686974207468652062756c6c277320657965'\n",
    "byteString1 = bytearray.fromhex(s1)\n",
    "byteString2 = bytearray.fromhex(s2)\n",
    "result = b''\n",
    "for b1,b2 in zip(byteString1, byteString2):\n",
    "    result += bytes([b1 ^ b2])\n",
    "print(result)\n",
    "print(result.hex())"
   ]
  },
  {
   "cell_type": "markdown",
   "metadata": {},
   "source": [
    "Single-byte XOR cipher\n",
    "The hex encoded string:\n",
    "\n",
    "1b37373331363f78151b7f2b783431333d78397828372d363c78373e783a393b3736\n",
    "... has been XOR'd against a single character. Find the key, decrypt the message.\n",
    "\n",
    "You can do this by hand. But don't: write code to do it for you.\n",
    "\n",
    "How? Devise some method for \"scoring\" a piece of English plaintext. Character frequency is a good metric. Evaluate each output and choose the one with the best score."
   ]
  },
  {
   "cell_type": "code",
   "execution_count": 97,
   "metadata": {
    "collapsed": false
   },
   "outputs": [
    {
     "name": "stdout",
     "output_type": "stream",
     "text": [
      "(b\"Cooking MC's like a pound of bacon\", 33, 88)\n"
     ]
    }
   ],
   "source": [
    "import string\n",
    "def score(byteString):\n",
    "    alNumCount = 0\n",
    "    for b in byteString:\n",
    "        char = chr(b)\n",
    "        if char in string.ascii_letters or char in string.whitespace:\n",
    "            alNumCount += 1\n",
    "    return alNumCount\n",
    "\n",
    "\n",
    "def singleByteXOR(byteString):\n",
    "    bestScore = 0\n",
    "    bestGuess = b''\n",
    "    byteKey = 0\n",
    "    for i in range(256):\n",
    "        guess = b''\n",
    "        for b in byteString:\n",
    "            guess += bytes([b ^ i])\n",
    "        curScore = score(guess)\n",
    "        if curScore > bestScore:\n",
    "            bestScore = curScore\n",
    "            bestGuess = guess\n",
    "            byteKey = i\n",
    "    #print(bestScore, bestGuess, hex(byteKey))\n",
    "    return bestGuess, bestScore, byteKey\n",
    "inString = '1b37373331363f78151b7f2b783431333d78397828372d363c78373e783a393b3736'\n",
    "byteString = bytes.fromhex(inString)\n",
    "guess = singleByteXOR(byteString)\n",
    "print(guess)"
   ]
  },
  {
   "cell_type": "markdown",
   "metadata": {},
   "source": [
    "Detect single-character XOR\n",
    "One of the 60-character strings in this file has been encrypted by single-character XOR.\n",
    "\n",
    "Find it.\n",
    "\n",
    "(Your code from #3 should help.)"
   ]
  },
  {
   "cell_type": "code",
   "execution_count": 48,
   "metadata": {
    "collapsed": false
   },
   "outputs": [
    {
     "name": "stdout",
     "output_type": "stream",
     "text": [
      "b'Now that the party is jumping\\n'\n"
     ]
    }
   ],
   "source": [
    "import string\n",
    "with open('set1_chall4.txt','r') as file:\n",
    "    bestScore = 0\n",
    "    bestString = ''\n",
    "    for line in file:\n",
    "        byteString = bytes.fromhex(line.strip())\n",
    "        guess, curScore = singleByteXOR(byteString)\n",
    "        if curScore > bestScore:\n",
    "            bestString = guess\n",
    "            bestScore = curScore\n",
    "    print(bestString)"
   ]
  },
  {
   "cell_type": "markdown",
   "metadata": {},
   "source": [
    "Implement repeating-key XOR\n",
    "Here is the opening stanza of an important work of the English language:\n",
    "\n",
    "Burning 'em, if you ain't quick and nimble\n",
    "I go crazy when I hear a cymbal\n",
    "Encrypt it, under the key \"ICE\", using repeating-key XOR.\n",
    "\n",
    "In repeating-key XOR, you'll sequentially apply each byte of the key; the first byte of plaintext will be XOR'd against I, the next C, the next E, then I again for the 4th byte, and so on.\n",
    "\n",
    "It should come out to:\n",
    "\n",
    "0b3637272a2b2e63622c2e69692a23693a2a3c6324202d623d63343c2a26226324272765272\n",
    "a282b2f20430a652e2c652a3124333a653e2b2027630c692b20283165286326302e27282f\n",
    "Encrypt a bunch of stuff using your repeating-key XOR function. Encrypt your mail. Encrypt your password file. Your .sig file. Get a feel for it. I promise, we aren't wasting your time with this."
   ]
  },
  {
   "cell_type": "code",
   "execution_count": 54,
   "metadata": {
    "collapsed": false
   },
   "outputs": [
    {
     "name": "stdout",
     "output_type": "stream",
     "text": [
      "0b3637272a2b2e63622c2e69692a23693a2a3c6324202d623d63343c2a26226324272765272a282b2f20690a652e2c652a3124333a653e2b2027630c692b20283165286326302e27282f\n"
     ]
    }
   ],
   "source": [
    "def repeatingKeyXOR(plaintext, key):\n",
    "    ciphertext = b''\n",
    "    keyLength = len(key)\n",
    "    for i, p in enumerate(plaintext):\n",
    "        ciphertext += bytes([p ^ key[i % keyLength]])\n",
    "    return ciphertext\n",
    "\n",
    "plaintext = \"Burning 'em, if you ain't quick and nimble I go crazy when I hear a cymbal\"\n",
    "plainBytes = bytes(plaintext, 'utf-8')\n",
    "key = 'ICE'\n",
    "keyBytes = bytes(key, 'utf-8')\n",
    "ciphertext = repeatingKeyXOR(plainBytes, keyBytes)\n",
    "print(ciphertext.hex())"
   ]
  },
  {
   "cell_type": "markdown",
   "metadata": {},
   "source": [
    "Break repeating-key XOR\n",
    "There's a file here. It's been base64'd after being encrypted with repeating-key XOR.\n",
    "\n",
    "Decrypt it.\n",
    "\n",
    "Here's how:\n",
    "\n",
    "Let KEYSIZE be the guessed length of the key; try values from 2 to (say) 40.\n",
    "Write a function to compute the edit distance/Hamming distance between two strings. The Hamming distance is just the number of differing bits. The distance between:\n",
    "this is a test\n",
    "and\n",
    "wokka wokka!!!\n",
    "is 37. Make sure your code agrees before you proceed.\n",
    "For each KEYSIZE, take the first KEYSIZE worth of bytes, and the second KEYSIZE worth of bytes, and find the edit distance between them. Normalize this result by dividing by KEYSIZE.\n",
    "The KEYSIZE with the smallest normalized edit distance is probably the key. You could proceed perhaps with the smallest 2-3 KEYSIZE values. Or take 4 KEYSIZE blocks instead of 2 and average the distances.\n",
    "Now that you probably know the KEYSIZE: break the ciphertext into blocks of KEYSIZE length.\n",
    "Now transpose the blocks: make a block that is the first byte of every block, and a block that is the second byte of every block, and so on.\n",
    "Solve each block as if it was single-character XOR. You already have code to do this.\n",
    "For each block, the single-byte XOR key that produces the best looking histogram is the repeating-key XOR key byte for that block. Put them together and you have the key.\n",
    "This code is going to turn out to be surprisingly useful later on. Breaking repeating-key XOR (\"Vigenere\") statistically is obviously an academic exercise, a \"Crypto 101\" thing. But more people \"know how\" to break it than can actually break it, and a similar technique breaks something much more important."
   ]
  },
  {
   "cell_type": "code",
   "execution_count": 104,
   "metadata": {
    "collapsed": false
   },
   "outputs": [
    {
     "name": "stdout",
     "output_type": "stream",
     "text": [
      "37\n",
      "[(5.625, 24), (5.555555555555555, 9), (5.517241379310345, 29), (5.4, 10)]\n",
      "Terminator X: Bring the noise\n",
      "b\"I'm back and I'm ringin' the bell \\nA rockin' on the mike while the fly girls yell \\nIn ecstasy in the back of me \\nWell that's my DJ Deshay cuttin' all them Z's \\nHittin' hard and the girlies goin' crazy \\nVanilla's on the mike, man I'm not lazy. \\n\\nI'm lettin' my drug kick in \\nIt controls my mouth and I begin \\nTo just let it flow, let my concepts go \\nMy posse's to the side yellin', Go Vanilla Go! \\n\\nSmooth 'cause that's the way I will be \\nAnd if you don't give a damn, then \\nWhy you starin' at me \\nSo get off 'cause I control the stage \\nThere's no dissin' allowed \\nI'm in my own phase \\nThe girlies sa y they love me and that is ok \\nAnd I can dance better than any kid n' play \\n\\nStage 2 -- Yea the one ya' wanna listen to \\nIt's off my head so let the beat play through \\nSo I can funk it up and make it sound good \\n1-2-3 Yo -- Knock on some wood \\nFor good luck, I like my rhymes atrocious \\nSupercalafragilisticexpialidocious \\nI'm an effect and that you can bet \\nI can take a fly girl and make her wet. \\n\\nI'm like Samson -- Samson to Delilah \\nThere's no denyin', You can try to hang \\nBut you'll keep tryin' to get my style \\nOver and over, practice makes perfect \\nBut not if you're a loafer. \\n\\nYou'll get nowhere, no place, no time, no girls \\nSoon -- Oh my God, homebody, you probably eat \\nSpaghetti with a spoon! Come on and say it! \\n\\nVIP. Vanilla Ice yep, yep, I'm comin' hard like a rhino \\nIntoxicating so you stagger like a wino \\nSo punks stop trying and girl stop cryin' \\nVanilla Ice is sellin' and you people are buyin' \\n'Cause why the freaks are jockin' like Crazy Glue \\nMovin' and groovin' trying to sing along \\nAll through the ghetto groovin' this here song \\nNow you're amazed by the VIP posse. \\n\\nSteppin' so hard like a German Nazi \\nStartled by the bases hittin' ground \\nThere's no trippin' on mine, I'm just gettin' down \\nSparkamatic, I'm hangin' tight like a fanatic \\nYou trapped me once and I thought that \\nYou might have it \\nSo step down and lend me your ear \\n'89 in my time! You, '90 is my year. \\n\\nYou're weakenin' fast, YO! and I can tell it \\nYour body's gettin' hot, so, so I can smell it \\nSo don't be mad and don't be sad \\n'Cause the lyrics belong to ICE, You can call me Dad \\nYou're pitchin' a fit, so step back and endure \\nLet the witch doctor, Ice, do the dance to cure \\nSo come up close and don't be square \\nYou wanna battle me -- Anytime, anywhere \\n\\nYou thought that I was weak, Boy, you're dead wrong \\nSo come on, everybody and sing this song \\n\\nSay -- Play that funky music Say, go white boy, go white boy go \\nplay that funky music Go white boy, go white boy, go \\nLay down and boogie and play that funky music till you die. \\n\\nPlay that funky music Come on, Come on, let me hear \\nPlay that funky music white boy you say it, say it \\nPlay that funky music A little louder now \\nPlay that funky music, white boy Come on, Come on, Come on \\nPlay that funky music \\n\"\n"
     ]
    }
   ],
   "source": [
    "import base64\n",
    "def hammingDistance(s1, s2):\n",
    "    byteString1 = bytes(s1, 'utf-8')\n",
    "    byteString2 = bytes(s2, 'utf-8')\n",
    "    hd = 0\n",
    "    for b1, b2 in zip(byteString1, byteString2):\n",
    "        binary1 = '{:08b}'.format(b1)\n",
    "        binary2 = '{:08b}'.format(b2)\n",
    "        for bit1,bit2 in zip(binary1, binary2):\n",
    "            if bit1 != bit2:\n",
    "                hd += 1\n",
    "    return hd\n",
    "        \n",
    "        \n",
    "testString1 = 'this is a test'\n",
    "testString2 = 'wokka wokka!!!'\n",
    "dist = hammingDistance(testString1, testString2)\n",
    "print(dist)\n",
    "\n",
    "\n",
    "def addToSortedList(arr, val, limit=None):\n",
    "    if len(arr) == 0:\n",
    "        arr += [val]\n",
    "        return 0\n",
    "    insertIndex = 0\n",
    "    for elem in arr:\n",
    "        if val[0] >= elem[0]:\n",
    "            break\n",
    "        insertIndex += 1\n",
    "    arr.insert(insertIndex, val)\n",
    "    if limit and len(arr) > limit:\n",
    "        arr.pop(0)\n",
    "    return insertIndex\n",
    "\n",
    "smallestDistances = []\n",
    "\n",
    "with open('set1_chall6.txt', 'r') as file:\n",
    "    base64d = file.read().replace('\\n', '')\n",
    "    ciphertext = base64.b64decode(base64d)\n",
    "    for keySize in range(2, 41):\n",
    "        chunk1 = ciphertext[:keySize*2]\n",
    "        chunk2 = ciphertext[keySize*2: keySize*4 ]\n",
    "        normalizedDistance = hammingDistance(chunk1.decode('utf-8'), chunk2.decode('utf-8')) / keySize\n",
    "        indexAdded = addToSortedList(smallestDistances, (normalizedDistance, keySize), limit=4)\n",
    "    print(smallestDistances)\n",
    "    keySizeGuess = 29 # set this to one of the keySizes in smallestDistances list\n",
    "    transposedBlocks = [None]*keySizeGuess\n",
    "    for i in range(keySizeGuess):\n",
    "        for index in range(i, len(ciphertext), keySizeGuess):\n",
    "            if transposedBlocks[i]:\n",
    "                transposedBlocks[i] += bytes([ciphertext[index]])\n",
    "            else:\n",
    "                transposedBlocks[i] = bytes([ciphertext[index]])\n",
    "    #print(transposedBlocks)\n",
    "    key = ''\n",
    "    for block in transposedBlocks:\n",
    "        guess, _, byteKey = singleByteXOR(block)\n",
    "        #print(guess)\n",
    "        key += chr(byteKey)\n",
    "    print(key)\n",
    "    byteKey = bytes(key, 'utf-8')\n",
    "    plaintext = repeatingKeyXOR(ciphertext, byteKey)\n",
    "    print(plaintext)"
   ]
  },
  {
   "cell_type": "markdown",
   "metadata": {},
   "source": [
    "AES in ECB mode\n",
    "The Base64-encoded content in this file has been encrypted via AES-128 in ECB mode under the key\n",
    "\n",
    "\"YELLOW SUBMARINE\".\n",
    "(case-sensitive, without the quotes; exactly 16 characters; I like \"YELLOW SUBMARINE\" because it's exactly 16 bytes long, and now you do too).\n",
    "\n",
    "Decrypt it. You know the key, after all.\n",
    "\n",
    "Easiest way: use OpenSSL::Cipher and give it AES-128-ECB as the cipher."
   ]
  },
  {
   "cell_type": "code",
   "execution_count": 107,
   "metadata": {
    "collapsed": false
   },
   "outputs": [
    {
     "name": "stdout",
     "output_type": "stream",
     "text": [
      "b\"I'm back and I'm ringin' the bell \\nA rockin' on the mike while the fly girls yell \\nIn ecstasy in the back of me \\nWell that's my DJ Deshay cuttin' all them Z's \\nHittin' hard and the girlies goin' crazy \\nVanilla's on the mike, man I'm not lazy. \\n\\nI'm lettin' my drug kick in \\nIt controls my mouth and I begin \\nTo just let it flow, let my concepts go \\nMy posse's to the side yellin', Go Vanilla Go! \\n\\nSmooth 'cause that's the way I will be \\nAnd if you don't give a damn, then \\nWhy you starin' at me \\nSo get off 'cause I control the stage \\nThere's no dissin' allowed \\nI'm in my own phase \\nThe girlies sa y they love me and that is ok \\nAnd I can dance better than any kid n' play \\n\\nStage 2 -- Yea the one ya' wanna listen to \\nIt's off my head so let the beat play through \\nSo I can funk it up and make it sound good \\n1-2-3 Yo -- Knock on some wood \\nFor good luck, I like my rhymes atrocious \\nSupercalafragilisticexpialidocious \\nI'm an effect and that you can bet \\nI can take a fly girl and make her wet. \\n\\nI'm like Samson -- Samson to Delilah \\nThere's no denyin', You can try to hang \\nBut you'll keep tryin' to get my style \\nOver and over, practice makes perfect \\nBut not if you're a loafer. \\n\\nYou'll get nowhere, no place, no time, no girls \\nSoon -- Oh my God, homebody, you probably eat \\nSpaghetti with a spoon! Come on and say it! \\n\\nVIP. Vanilla Ice yep, yep, I'm comin' hard like a rhino \\nIntoxicating so you stagger like a wino \\nSo punks stop trying and girl stop cryin' \\nVanilla Ice is sellin' and you people are buyin' \\n'Cause why the freaks are jockin' like Crazy Glue \\nMovin' and groovin' trying to sing along \\nAll through the ghetto groovin' this here song \\nNow you're amazed by the VIP posse. \\n\\nSteppin' so hard like a German Nazi \\nStartled by the bases hittin' ground \\nThere's no trippin' on mine, I'm just gettin' down \\nSparkamatic, I'm hangin' tight like a fanatic \\nYou trapped me once and I thought that \\nYou might have it \\nSo step down and lend me your ear \\n'89 in my time! You, '90 is my year. \\n\\nYou're weakenin' fast, YO! and I can tell it \\nYour body's gettin' hot, so, so I can smell it \\nSo don't be mad and don't be sad \\n'Cause the lyrics belong to ICE, You can call me Dad \\nYou're pitchin' a fit, so step back and endure \\nLet the witch doctor, Ice, do the dance to cure \\nSo come up close and don't be square \\nYou wanna battle me -- Anytime, anywhere \\n\\nYou thought that I was weak, Boy, you're dead wrong \\nSo come on, everybody and sing this song \\n\\nSay -- Play that funky music Say, go white boy, go white boy go \\nplay that funky music Go white boy, go white boy, go \\nLay down and boogie and play that funky music till you die. \\n\\nPlay that funky music Come on, Come on, let me hear \\nPlay that funky music white boy you say it, say it \\nPlay that funky music A little louder now \\nPlay that funky music, white boy Come on, Come on, Come on \\nPlay that funky music \\n\\x04\\x04\\x04\\x04\"\n"
     ]
    }
   ],
   "source": [
    "import base64\n",
    "from Crypto.Cipher import AES\n",
    "def AESdecrypt(key, ciphertext):\n",
    "    cipher = AES.new(key, AES.MODE_ECB)\n",
    "    return cipher.decrypt(ciphertext)\n",
    "\n",
    "with open('set1_chall7.txt', 'r') as file:\n",
    "    base64d = file.read().replace('\\n','')\n",
    "    ciphertext = base64.b64decode(base64d)\n",
    "    key = 'YELLOW SUBMARINE'\n",
    "    plaintext = AESdecrypt(key, ciphertext)\n",
    "    print(plaintext)"
   ]
  },
  {
   "cell_type": "markdown",
   "metadata": {},
   "source": [
    "Detect AES in ECB mode\n",
    "In this file are a bunch of hex-encoded ciphertexts.\n",
    "\n",
    "One of them has been encrypted with ECB.\n",
    "\n",
    "Detect it.\n",
    "\n",
    "Remember that the problem with ECB is that it is stateless and deterministic; the same 16 byte plaintext block will always produce the same 16 byte ciphertext."
   ]
  },
  {
   "cell_type": "code",
   "execution_count": 111,
   "metadata": {
    "collapsed": false
   },
   "outputs": [
    {
     "name": "stdout",
     "output_type": "stream",
     "text": [
      "b'\\xd8\\x80a\\x97@\\xa8\\xa1\\x9bx@\\xa8\\xa3\\x1c\\x81\\n=\\x08d\\x9a\\xf7\\r\\xc0oO\\xd5\\xd2\\xd6\\x9ctL\\xd2\\x83\\xe2\\xdd\\x05/kd\\x1d\\xbf\\x9d\\x11\\xb04\\x85B\\xbbW\\x08d\\x9a\\xf7\\r\\xc0oO\\xd5\\xd2\\xd6\\x9ctL\\xd2\\x83\\x94u\\xc9\\xdf\\xdb\\xc1\\xd4e\\x97\\x94\\x9d\\x9c~\\x82\\xbfZ\\x08d\\x9a\\xf7\\r\\xc0oO\\xd5\\xd2\\xd6\\x9ctL\\xd2\\x83\\x97\\xa9>\\xab\\x8dj\\xec\\xd5fH\\x91Tx\\x9ak\\x03\\x08d\\x9a\\xf7\\r\\xc0oO\\xd5\\xd2\\xd6\\x9ctL\\xd2\\x83\\xd4\\x03\\x18\\x0c\\x98\\xc8\\xf6\\xdb\\x1f*?\\x9c@@\\xde\\xb0\\xabQ\\xb2\\x993\\xf2\\xc1#\\xc5\\x83\\x86\\xb0o\\xba\\x18j' 3\n"
     ]
    }
   ],
   "source": [
    "with open('set1_chall8.txt','r') as file:\n",
    "    blockSize = 16\n",
    "    highestMatchingBlockCount = 0\n",
    "    aesCiphertext = ''\n",
    "    for line in file:\n",
    "        possibleCiphertext = bytes.fromhex(line.strip())\n",
    "        matchingBlockCount = 0\n",
    "        # see if any 16 byte ciphertext is repeated within the same line?\n",
    "        chunks = [possibleCiphertext[i:i+blockSize] for i in range(0, len(possibleCiphertext), blockSize)]\n",
    "        matchingBlockCount = len(chunks) - len(set(chunks))\n",
    "        if matchingBlockCount > highestMatchingBlockCount:\n",
    "            highestMatchingBlockCount = matchingBlockCount\n",
    "            aesCiphertext = possibleCiphertext\n",
    "    print(aesCiphertext, highestMatchingBlockCount)"
   ]
  },
  {
   "cell_type": "code",
   "execution_count": null,
   "metadata": {
    "collapsed": true
   },
   "outputs": [],
   "source": []
  }
 ],
 "metadata": {
  "kernelspec": {
   "display_name": "Python 3",
   "language": "python",
   "name": "python3"
  },
  "language_info": {
   "codemirror_mode": {
    "name": "ipython",
    "version": 3
   },
   "file_extension": ".py",
   "mimetype": "text/x-python",
   "name": "python",
   "nbconvert_exporter": "python",
   "pygments_lexer": "ipython3",
   "version": "3.6.0"
  }
 },
 "nbformat": 4,
 "nbformat_minor": 2
}
