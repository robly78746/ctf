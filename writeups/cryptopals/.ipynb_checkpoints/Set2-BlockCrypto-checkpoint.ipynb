{
 "cells": [
  {
   "cell_type": "markdown",
   "metadata": {},
   "source": [
    "Implement PKCS#7 padding\n",
    "A block cipher transforms a fixed-sized block (usually 8 or 16 bytes) of plaintext into ciphertext. But we almost never want to transform a single block; we encrypt irregularly-sized messages.\n",
    "\n",
    "One way we account for irregularly-sized messages is by padding, creating a plaintext that is an even multiple of the blocksize. The most popular padding scheme is called PKCS#7.\n",
    "\n",
    "So: pad any block to a specific block length, by appending the number of bytes of padding to the end of the block. For instance,\n",
    "\n",
    "\"YELLOW SUBMARINE\"\n",
    "... padded to 20 bytes would be:\n",
    "\n",
    "\"YELLOW SUBMARINE\\x04\\x04\\x04\\x04\""
   ]
  },
  {
   "cell_type": "code",
   "execution_count": 7,
   "metadata": {
    "collapsed": false
   },
   "outputs": [
    {
     "name": "stdout",
     "output_type": "stream",
     "text": [
      "b'YELLOW SUBMARINE\\x04\\x04\\x04\\x04'\n"
     ]
    }
   ],
   "source": [
    "def PKCS7(text, blockLength):\n",
    "    padSize = blockLength - (len(text) % blockLength)\n",
    "    return bytes(text + '\\x04' * padSize, 'utf-8')\n",
    "\n",
    "plaintext = 'YELLOW SUBMARINE'\n",
    "padded = PKCS7(plaintext, 20)\n",
    "print(padded)"
   ]
  },
  {
   "cell_type": "markdown",
   "metadata": {},
   "source": [
    "Implement CBC mode\n",
    "CBC mode is a block cipher mode that allows us to encrypt irregularly-sized messages, despite the fact that a block cipher natively only transforms individual blocks.\n",
    "\n",
    "In CBC mode, each ciphertext block is added to the next plaintext block before the next call to the cipher core.\n",
    "\n",
    "The first plaintext block, which has no associated previous ciphertext block, is added to a \"fake 0th ciphertext block\" called the initialization vector, or IV.\n",
    "\n",
    "Implement CBC mode by hand by taking the ECB function you wrote earlier, making it encrypt instead of decrypt (verify this by decrypting whatever you encrypt to test), and using your XOR function from the previous exercise to combine them.\n",
    "\n",
    "The file here is intelligible (somewhat) when CBC decrypted against \"YELLOW SUBMARINE\" with an IV of all ASCII 0 (\\x00\\x00\\x00 &c)"
   ]
  },
  {
   "cell_type": "code",
   "execution_count": 25,
   "metadata": {
    "collapsed": false
   },
   "outputs": [
    {
     "name": "stdout",
     "output_type": "stream",
     "text": [
      "b\"I'm back and I'm ringin' the bell \\nA rockin' on the mike while the fly girls yell \\nIn ecstasy in the back of me \\nWell that's my DJ Deshay cuttin' all them Z's \\nHittin' hard and the girlies goin' crazy \\nVanilla's on the mike, man I'm not lazy. \\n\\nI'm lettin' my drug kick in \\nIt controls my mouth and I begin \\nTo just let it flow, let my concepts go \\nMy posse's to the side yellin', Go Vanilla Go! \\n\\nSmooth 'cause that's the way I will be \\nAnd if you don't give a damn, then \\nWhy you starin' at me \\nSo get off 'cause I control the stage \\nThere's no dissin' allowed \\nI'm in my own phase \\nThe girlies sa y they love me and that is ok \\nAnd I can dance better than any kid n' play \\n\\nStage 2 -- Yea the one ya' wanna listen to \\nIt's off my head so let the beat play through \\nSo I can funk it up and make it sound good \\n1-2-3 Yo -- Knock on some wood \\nFor good luck, I like my rhymes atrocious \\nSupercalafragilisticexpialidocious \\nI'm an effect and that you can bet \\nI can take a fly girl and make her wet. \\n\\nI'm like Samson -- Samson to Delilah \\nThere's no denyin', You can try to hang \\nBut you'll keep tryin' to get my style \\nOver and over, practice makes perfect \\nBut not if you're a loafer. \\n\\nYou'll get nowhere, no place, no time, no girls \\nSoon -- Oh my God, homebody, you probably eat \\nSpaghetti with a spoon! Come on and say it! \\n\\nVIP. Vanilla Ice yep, yep, I'm comin' hard like a rhino \\nIntoxicating so you stagger like a wino \\nSo punks stop trying and girl stop cryin' \\nVanilla Ice is sellin' and you people are buyin' \\n'Cause why the freaks are jockin' like Crazy Glue \\nMovin' and groovin' trying to sing along \\nAll through the ghetto groovin' this here song \\nNow you're amazed by the VIP posse. \\n\\nSteppin' so hard like a German Nazi \\nStartled by the bases hittin' ground \\nThere's no trippin' on mine, I'm just gettin' down \\nSparkamatic, I'm hangin' tight like a fanatic \\nYou trapped me once and I thought that \\nYou might have it \\nSo step down and lend me your ear \\n'89 in my time! You, '90 is my year. \\n\\nYou're weakenin' fast, YO! and I can tell it \\nYour body's gettin' hot, so, so I can smell it \\nSo don't be mad and don't be sad \\n'Cause the lyrics belong to ICE, You can call me Dad \\nYou're pitchin' a fit, so step back and endure \\nLet the witch doctor, Ice, do the dance to cure \\nSo come up close and don't be square \\nYou wanna battle me -- Anytime, anywhere \\n\\nYou thought that I was weak, Boy, you're dead wrong \\nSo come on, everybody and sing this song \\n\\nSay -- Play that funky music Say, go white boy, go white boy go \\nplay that funky music Go white boy, go white boy, go \\nLay down and boogie and play that funky music till you die. \\n\\nPlay that funky music Come on, Come on, let me hear \\nPlay that funky music white boy you say it, say it \\nPlay that funky music A little louder now \\nPlay that funky music, white boy Come on, Come on, Come on \\nPlay that funky music \\n\\x04\\x04\\x04\\x04\"\n",
      "b'hA:\\x9b\\x08>B_1!\\xb3[\\x1f,\\xd7S'\n",
      "b'hello world\\x04\\x04\\x04\\x04\\x04'\n"
     ]
    }
   ],
   "source": [
    "import base64\n",
    "from Crypto.Cipher import AES\n",
    "def AESdecrypt(key, ciphertext):\n",
    "    cipher = AES.new(key, AES.MODE_ECB)\n",
    "    return cipher.decrypt(ciphertext)\n",
    "\n",
    "def AESencrypt(key, ciphertext):\n",
    "    cipher = AES.new(key, AES.MODE_ECB)\n",
    "    return cipher.encrypt(ciphertext)\n",
    "\n",
    "def XOR(byteString1, byteString2):\n",
    "    result = b''\n",
    "    for b1,b2 in zip(byteString1, byteString2):\n",
    "        result += bytes([b1 ^ b2])\n",
    "    return result\n",
    "\n",
    "def CBCdecrypt(key, ciphertext, IV):\n",
    "    blockSize = 16\n",
    "    plaintext = b''\n",
    "    cipherBlocks = [ciphertext[i:i + blockSize] for i in range(0,len(ciphertext), blockSize)]\n",
    "    for i in range(len(cipherBlocks) - 1, -1, -1):\n",
    "        decryptedBlock = AESdecrypt(key, cipherBlocks[i])\n",
    "        previousBlock = IV if i == 0 else cipherBlocks[i-1]\n",
    "        plaintext = XOR(previousBlock, decryptedBlock) + plaintext\n",
    "    return plaintext\n",
    "\n",
    "def CBCencrypt(key, plaintext, IV):\n",
    "    blockSize = 16\n",
    "    ciphertext = b''\n",
    "    plaintextBlocks = [plaintext[i:i + blockSize] for i in range(0,len(plaintext), blockSize)]\n",
    "    prevCipherBlock = IV\n",
    "    for i in range(len(plaintextBlocks)):\n",
    "        cipherBlock = AESencrypt(key, XOR(prevCipherBlock, plaintextBlocks[i]))\n",
    "        prevCipherBlock = cipherBlock\n",
    "        ciphertext += cipherBlock\n",
    "    return ciphertext\n",
    "\n",
    "key = b'YELLOW SUBMARINE'\n",
    "IV = b'\\x00' * 16\n",
    "blockSize = 16\n",
    "\n",
    "with open('set2_chall10.txt','r') as file:\n",
    "    base64d = file.read().replace('\\n','')\n",
    "    ciphertext = base64.b64decode(base64d)\n",
    "    plaintext = CBCdecrypt(key, ciphertext, IV)\n",
    "    print(plaintext)\n",
    "plaintext = b'hello world' + b'\\x04' * 5\n",
    "ciphertext = CBCencrypt(key, plaintext, IV)\n",
    "print(ciphertext)\n",
    "plaintext = CBCdecrypt(key, ciphertext, IV)\n",
    "print(plaintext)\n",
    "\n"
   ]
  },
  {
   "cell_type": "markdown",
   "metadata": {},
   "source": [
    "An ECB/CBC detection oracle\n",
    "Now that you have ECB and CBC working:\n",
    "\n",
    "Write a function to generate a random AES key; that's just 16 random bytes.\n",
    "\n",
    "Write a function that encrypts data under an unknown key --- that is, a function that generates a random key and encrypts under it.\n",
    "\n",
    "The function should look like:\n",
    "\n",
    "encryption_oracle(your-input)\n",
    "=> [MEANINGLESS JIBBER JABBER]\n",
    "Under the hood, have the function append 5-10 bytes (count chosen randomly) before the plaintext and 5-10 bytes after the plaintext.\n",
    "\n",
    "Now, have the function choose to encrypt under ECB 1/2 the time, and under CBC the other half (just use random IVs each time for CBC). Use rand(2) to decide which to use.\n",
    "\n",
    "Detect the block cipher mode the function is using each time. You should end up with a piece of code that, pointed at a block box that might be encrypting ECB or CBC, tells you which one is happening."
   ]
  },
  {
   "cell_type": "code",
   "execution_count": null,
   "metadata": {
    "collapsed": true
   },
   "outputs": [],
   "source": []
  }
 ],
 "metadata": {
  "kernelspec": {
   "display_name": "Python 3",
   "language": "python",
   "name": "python3"
  },
  "language_info": {
   "codemirror_mode": {
    "name": "ipython",
    "version": 3
   },
   "file_extension": ".py",
   "mimetype": "text/x-python",
   "name": "python",
   "nbconvert_exporter": "python",
   "pygments_lexer": "ipython3",
   "version": "3.6.0"
  }
 },
 "nbformat": 4,
 "nbformat_minor": 2
}
